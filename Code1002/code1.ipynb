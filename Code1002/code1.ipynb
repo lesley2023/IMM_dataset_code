{
 "cells": [
  {
   "cell_type": "code",
   "execution_count": 8,
   "metadata": {},
   "outputs": [
    {
     "name": "stdout",
     "output_type": "stream",
     "text": [
      "Requirement already satisfied: openparse in /Users/lesleywang/anaconda3/envs/surya/lib/python3.10/site-packages (0.6.0)\n",
      "Requirement already satisfied: PyMuPDF>=1.23.2 in /Users/lesleywang/anaconda3/envs/surya/lib/python3.10/site-packages (from openparse) (1.24.9)\n",
      "Requirement already satisfied: pillow>=8.3 in /Users/lesleywang/anaconda3/envs/surya/lib/python3.10/site-packages (from openparse) (10.4.0)\n",
      "Requirement already satisfied: pydantic>=2.0 in /Users/lesleywang/anaconda3/envs/surya/lib/python3.10/site-packages (from openparse) (2.8.2)\n",
      "Requirement already satisfied: pypdf>=4.0.0 in /Users/lesleywang/anaconda3/envs/surya/lib/python3.10/site-packages (from openparse) (5.0.1)\n",
      "Requirement already satisfied: pdfminer.six>=20200401 in /Users/lesleywang/anaconda3/envs/surya/lib/python3.10/site-packages (from openparse) (20231228)\n",
      "Requirement already satisfied: tiktoken>=0.3 in /Users/lesleywang/anaconda3/envs/surya/lib/python3.10/site-packages (from openparse) (0.7.0)\n",
      "Requirement already satisfied: openai>=1.0.0 in /Users/lesleywang/anaconda3/envs/surya/lib/python3.10/site-packages (from openparse) (1.51.0)\n",
      "Requirement already satisfied: numpy in /Users/lesleywang/anaconda3/envs/surya/lib/python3.10/site-packages (from openparse) (2.1.0)\n",
      "Requirement already satisfied: anyio<5,>=3.5.0 in /Users/lesleywang/anaconda3/envs/surya/lib/python3.10/site-packages (from openai>=1.0.0->openparse) (4.6.0)\n",
      "Requirement already satisfied: distro<2,>=1.7.0 in /Users/lesleywang/anaconda3/envs/surya/lib/python3.10/site-packages (from openai>=1.0.0->openparse) (1.9.0)\n",
      "Requirement already satisfied: httpx<1,>=0.23.0 in /Users/lesleywang/anaconda3/envs/surya/lib/python3.10/site-packages (from openai>=1.0.0->openparse) (0.27.2)\n",
      "Requirement already satisfied: jiter<1,>=0.4.0 in /Users/lesleywang/anaconda3/envs/surya/lib/python3.10/site-packages (from openai>=1.0.0->openparse) (0.5.0)\n",
      "Requirement already satisfied: sniffio in /Users/lesleywang/anaconda3/envs/surya/lib/python3.10/site-packages (from openai>=1.0.0->openparse) (1.3.1)\n",
      "Requirement already satisfied: tqdm>4 in /Users/lesleywang/anaconda3/envs/surya/lib/python3.10/site-packages (from openai>=1.0.0->openparse) (4.66.5)\n",
      "Requirement already satisfied: typing-extensions<5,>=4.11 in /Users/lesleywang/anaconda3/envs/surya/lib/python3.10/site-packages (from openai>=1.0.0->openparse) (4.12.2)\n",
      "Requirement already satisfied: charset-normalizer>=2.0.0 in /Users/lesleywang/anaconda3/envs/surya/lib/python3.10/site-packages (from pdfminer.six>=20200401->openparse) (3.3.2)\n",
      "Requirement already satisfied: cryptography>=36.0.0 in /Users/lesleywang/anaconda3/envs/surya/lib/python3.10/site-packages (from pdfminer.six>=20200401->openparse) (43.0.1)\n",
      "Requirement already satisfied: annotated-types>=0.4.0 in /Users/lesleywang/anaconda3/envs/surya/lib/python3.10/site-packages (from pydantic>=2.0->openparse) (0.7.0)\n",
      "Requirement already satisfied: pydantic-core==2.20.1 in /Users/lesleywang/anaconda3/envs/surya/lib/python3.10/site-packages (from pydantic>=2.0->openparse) (2.20.1)\n",
      "Requirement already satisfied: PyMuPDFb==1.24.9 in /Users/lesleywang/anaconda3/envs/surya/lib/python3.10/site-packages (from PyMuPDF>=1.23.2->openparse) (1.24.9)\n",
      "Requirement already satisfied: regex>=2022.1.18 in /Users/lesleywang/anaconda3/envs/surya/lib/python3.10/site-packages (from tiktoken>=0.3->openparse) (2024.7.24)\n",
      "Requirement already satisfied: requests>=2.26.0 in /Users/lesleywang/anaconda3/envs/surya/lib/python3.10/site-packages (from tiktoken>=0.3->openparse) (2.32.3)\n",
      "Requirement already satisfied: idna>=2.8 in /Users/lesleywang/anaconda3/envs/surya/lib/python3.10/site-packages (from anyio<5,>=3.5.0->openai>=1.0.0->openparse) (3.8)\n",
      "Requirement already satisfied: exceptiongroup>=1.0.2 in /Users/lesleywang/anaconda3/envs/surya/lib/python3.10/site-packages (from anyio<5,>=3.5.0->openai>=1.0.0->openparse) (1.2.2)\n",
      "Requirement already satisfied: cffi>=1.12 in /Users/lesleywang/anaconda3/envs/surya/lib/python3.10/site-packages (from cryptography>=36.0.0->pdfminer.six>=20200401->openparse) (1.17.1)\n",
      "Requirement already satisfied: certifi in /Users/lesleywang/anaconda3/envs/surya/lib/python3.10/site-packages (from httpx<1,>=0.23.0->openai>=1.0.0->openparse) (2024.8.30)\n",
      "Requirement already satisfied: httpcore==1.* in /Users/lesleywang/anaconda3/envs/surya/lib/python3.10/site-packages (from httpx<1,>=0.23.0->openai>=1.0.0->openparse) (1.0.6)\n",
      "Requirement already satisfied: h11<0.15,>=0.13 in /Users/lesleywang/anaconda3/envs/surya/lib/python3.10/site-packages (from httpcore==1.*->httpx<1,>=0.23.0->openai>=1.0.0->openparse) (0.14.0)\n",
      "Requirement already satisfied: urllib3<3,>=1.21.1 in /Users/lesleywang/anaconda3/envs/surya/lib/python3.10/site-packages (from requests>=2.26.0->tiktoken>=0.3->openparse) (2.2.2)\n",
      "Requirement already satisfied: pycparser in /Users/lesleywang/anaconda3/envs/surya/lib/python3.10/site-packages (from cffi>=1.12->cryptography>=36.0.0->pdfminer.six>=20200401->openparse) (2.22)\n",
      "Note: you may need to restart the kernel to use updated packages.\n"
     ]
    }
   ],
   "source": [
    "pip install openparse"
   ]
  },
  {
   "cell_type": "code",
   "execution_count": 9,
   "metadata": {},
   "outputs": [],
   "source": [
    "import pandas as pd\n",
    "import openparse"
   ]
  },
  {
   "cell_type": "code",
   "execution_count": 3,
   "metadata": {},
   "outputs": [
    {
     "name": "stderr",
     "output_type": "stream",
     "text": [
      "/Users/lesleywang/anaconda3/envs/surya/lib/python3.10/site-packages/tqdm/auto.py:21: TqdmWarning: IProgress not found. Please update jupyter and ipywidgets. See https://ipywidgets.readthedocs.io/en/stable/user_install.html\n",
      "  from .autonotebook import tqdm as notebook_tqdm\n"
     ]
    },
    {
     "name": "stdout",
     "output_type": "stream",
     "text": [
      "Initializing Docment Parser......\n",
      "Loading Surya models......\n",
      "Loaded detection model vikp/surya_layout3 on device mps with dtype torch.float16\n",
      "Loaded detection model vikp/surya_det3 on device mps with dtype torch.float16\n",
      "Loaded reading order model vikp/surya_order on device mps with dtype torch.float16\n",
      "Initializing Tesseract......\n"
     ]
    }
   ],
   "source": [
    "# Loading latest version of pdf_parser\n",
    "# auto reloads the module if it has been changed\n",
    "\n",
    "from pdf_parser import PdfParser\n",
    "\n",
    "parser = PdfParser()"
   ]
  },
  {
   "cell_type": "code",
   "execution_count": 6,
   "metadata": {},
   "outputs": [
    {
     "name": "stderr",
     "output_type": "stream",
     "text": [
      "Detecting bboxes:   0%|          | 0/1 [00:00<?, ?it/s]"
     ]
    },
    {
     "name": "stderr",
     "output_type": "stream",
     "text": [
      "Detecting bboxes: 100%|██████████| 1/1 [00:00<00:00,  3.14it/s]\n",
      "Detecting bboxes: 100%|██████████| 1/1 [00:00<00:00,  3.81it/s]\n",
      "Finding reading order: 100%|██████████| 1/1 [00:00<00:00,  3.63it/s]\n"
     ]
    }
   ],
   "source": [
    "pdf_bytes = open('pic2.pdf', 'rb').read()\n",
    "\n",
    "pdf_layout = parser.parse_pdf(pdf_bytes)\n",
    "pdf_layout.to_excel('output_pic2.xlsx', index=False)"
   ]
  },
  {
   "cell_type": "code",
   "execution_count": 13,
   "metadata": {},
   "outputs": [
    {
     "data": {
      "text/html": [
       "<div>\n",
       "<style scoped>\n",
       "    .dataframe tbody tr th:only-of-type {\n",
       "        vertical-align: middle;\n",
       "    }\n",
       "\n",
       "    .dataframe tbody tr th {\n",
       "        vertical-align: top;\n",
       "    }\n",
       "\n",
       "    .dataframe thead th {\n",
       "        text-align: right;\n",
       "    }\n",
       "</style>\n",
       "<table border=\"1\" class=\"dataframe\">\n",
       "  <thead>\n",
       "    <tr style=\"text-align: right;\">\n",
       "      <th></th>\n",
       "      <th>page_idx</th>\n",
       "      <th>bbox</th>\n",
       "      <th>label</th>\n",
       "    </tr>\n",
       "  </thead>\n",
       "  <tbody>\n",
       "    <tr>\n",
       "      <th>2</th>\n",
       "      <td>0</td>\n",
       "      <td>(152, 252, 1076, 1289)</td>\n",
       "      <td>Table</td>\n",
       "    </tr>\n",
       "  </tbody>\n",
       "</table>\n",
       "</div>"
      ],
      "text/plain": [
       "   page_idx                    bbox  label\n",
       "2         0  (152, 252, 1076, 1289)  Table"
      ]
     },
     "execution_count": 13,
     "metadata": {},
     "output_type": "execute_result"
    }
   ],
   "source": [
    "def extract_table_data_from_excel(file_path):\n",
    "    \"\"\"\n",
    "    Extract only the rows labeled as 'Table' from an Excel file and return the data in matrix format\n",
    "    containing page_idx, position, bbox, label, and text.\n",
    "    \"\"\"\n",
    "    # Load the Excel file\n",
    "    df = pdf_layout\n",
    "    \n",
    "    # Filter for rows labeled as 'Table'\n",
    "    table_df = df[df['label'] == 'Table']\n",
    "    \n",
    "    # Select necessary columns\n",
    "    table_matrix = table_df[['page_idx', 'bbox', 'label']]\n",
    "    \n",
    "    return table_matrix\n",
    "\n",
    "# Call the function with the uploaded file path\n",
    "\n",
    "filtered_table_matrix = extract_table_data_from_excel(pdf_layout)\n",
    "filtered_table_matrix"
   ]
  },
  {
   "cell_type": "code",
   "execution_count": 14,
   "metadata": {},
   "outputs": [
    {
     "name": "stdout",
     "output_type": "stream",
     "text": [
      "Processing page: 0\n"
     ]
    }
   ],
   "source": [
    "def iterate_table_pages(pdf_layout):\n",
    "    \"\"\"\n",
    "    Iterate over pages in the pdf_layout DataFrame that contain a table and print the page number.\n",
    "    Returns a list of page numbers with tables.\n",
    "    \"\"\"\n",
    "    # Filter for rows labeled as 'Table'\n",
    "    table_df = pdf_layout[pdf_layout['label'] == 'Table']\n",
    "    \n",
    "    # Get unique page numbers where tables are located\n",
    "    table_pages = table_df['page_idx'].unique()\n",
    "    \n",
    "    # Iterate over the pages containing tables\n",
    "    for page in table_pages:\n",
    "        print(f\"Processing page: {page}\")\n",
    "    \n",
    "    return table_pages\n",
    "\n",
    "# Call the function\n",
    "table_pages = iterate_table_pages(filtered_table_matrix)\n"
   ]
  },
  {
   "cell_type": "code",
   "execution_count": 11,
   "metadata": {},
   "outputs": [
    {
     "ename": "AttributeError",
     "evalue": "'DataFrame' object has no attribute 'pages'",
     "output_type": "error",
     "traceback": [
      "\u001b[0;31m---------------------------------------------------------------------------\u001b[0m",
      "\u001b[0;31mAttributeError\u001b[0m                            Traceback (most recent call last)",
      "\u001b[0;32m/var/folders/ww/r9bybjcn0fb_03bkvkdlt9xh0000gn/T/ipykernel_16897/2958324331.py\u001b[0m in \u001b[0;36m?\u001b[0;34m()\u001b[0m\n\u001b[1;32m      1\u001b[0m \u001b[0mparser\u001b[0m \u001b[0;34m=\u001b[0m \u001b[0mopenparse\u001b[0m\u001b[0;34m.\u001b[0m\u001b[0mDocumentParser\u001b[0m\u001b[0;34m(\u001b[0m\u001b[0;34m)\u001b[0m\u001b[0;34m\u001b[0m\u001b[0;34m\u001b[0m\u001b[0m\n\u001b[0;32m----> 2\u001b[0;31m \u001b[0mparsed_basic_doc\u001b[0m\u001b[0;34m=\u001b[0m\u001b[0mparser\u001b[0m\u001b[0;34m.\u001b[0m\u001b[0mparse\u001b[0m\u001b[0;34m(\u001b[0m\u001b[0mfiltered_table_matrix\u001b[0m\u001b[0;34m)\u001b[0m\u001b[0;34m\u001b[0m\u001b[0;34m\u001b[0m\u001b[0m\n\u001b[0m\u001b[1;32m      3\u001b[0m \u001b[0;34m\u001b[0m\u001b[0m\n\u001b[1;32m      4\u001b[0m \u001b[0;32mfor\u001b[0m \u001b[0mnode\u001b[0m \u001b[0;32min\u001b[0m \u001b[0mparsed_basic_doc\u001b[0m\u001b[0;34m.\u001b[0m\u001b[0mnodes\u001b[0m\u001b[0;34m:\u001b[0m\u001b[0;34m\u001b[0m\u001b[0;34m\u001b[0m\u001b[0m\n\u001b[1;32m      5\u001b[0m     \u001b[0mprint\u001b[0m\u001b[0;34m(\u001b[0m\u001b[0mnode\u001b[0m\u001b[0;34m)\u001b[0m\u001b[0;34m\u001b[0m\u001b[0;34m\u001b[0m\u001b[0m\n",
      "\u001b[0;32m~/anaconda3/envs/surya/lib/python3.10/site-packages/openparse/doc_parser.py\u001b[0m in \u001b[0;36m?\u001b[0;34m(self, file, ocr)\u001b[0m\n\u001b[1;32m     91\u001b[0m         \u001b[0mArgs\u001b[0m\u001b[0;34m:\u001b[0m\u001b[0;34m\u001b[0m\u001b[0;34m\u001b[0m\u001b[0m\n\u001b[1;32m     92\u001b[0m             \u001b[0mfile\u001b[0m \u001b[0;34m(\u001b[0m\u001b[0mUnion\u001b[0m\u001b[0;34m[\u001b[0m\u001b[0mstr\u001b[0m\u001b[0;34m,\u001b[0m \u001b[0mPath\u001b[0m\u001b[0;34m]\u001b[0m\u001b[0;34m)\u001b[0m\u001b[0;34m:\u001b[0m \u001b[0mThe\u001b[0m \u001b[0mpath\u001b[0m \u001b[0mto\u001b[0m \u001b[0mthe\u001b[0m \u001b[0mPDF\u001b[0m \u001b[0mfile\u001b[0m\u001b[0;34m.\u001b[0m\u001b[0;34m\u001b[0m\u001b[0;34m\u001b[0m\u001b[0m\n\u001b[1;32m     93\u001b[0m             \u001b[0mocr\u001b[0m \u001b[0;34m(\u001b[0m\u001b[0mbool\u001b[0m\u001b[0;34m)\u001b[0m\u001b[0;34m:\u001b[0m \u001b[0mWhether\u001b[0m \u001b[0mto\u001b[0m \u001b[0muse\u001b[0m \u001b[0mOCR\u001b[0m \u001b[0;32mfor\u001b[0m \u001b[0mtext\u001b[0m \u001b[0mextraction\u001b[0m\u001b[0;34m.\u001b[0m \u001b[0mNot\u001b[0m \u001b[0mrecommended\u001b[0m \u001b[0munless\u001b[0m \u001b[0mnecessary\u001b[0m \u001b[0;34m-\u001b[0m \u001b[0minherently\u001b[0m \u001b[0mslower\u001b[0m \u001b[0;32mand\u001b[0m \u001b[0mless\u001b[0m \u001b[0maccurate\u001b[0m\u001b[0;34m.\u001b[0m \u001b[0mNote\u001b[0m \u001b[0muses\u001b[0m \u001b[0mPyMuPDF\u001b[0m \u001b[0;32mfor\u001b[0m \u001b[0mOCR\u001b[0m\u001b[0;34m.\u001b[0m\u001b[0;34m\u001b[0m\u001b[0;34m\u001b[0m\u001b[0m\n\u001b[1;32m     94\u001b[0m         \"\"\"\n\u001b[0;32m---> 95\u001b[0;31m         \u001b[0mdoc\u001b[0m \u001b[0;34m=\u001b[0m \u001b[0mPdf\u001b[0m\u001b[0;34m(\u001b[0m\u001b[0mfile\u001b[0m\u001b[0;34m)\u001b[0m\u001b[0;34m\u001b[0m\u001b[0;34m\u001b[0m\u001b[0m\n\u001b[0m\u001b[1;32m     96\u001b[0m \u001b[0;34m\u001b[0m\u001b[0m\n\u001b[1;32m     97\u001b[0m         text_engine: Literal[\"pdfminer\", \"pymupdf\"] = (\n\u001b[1;32m     98\u001b[0m             \u001b[0;34m\"pdfminer\"\u001b[0m \u001b[0;32mif\u001b[0m \u001b[0;32mnot\u001b[0m \u001b[0mocr\u001b[0m \u001b[0;32melse\u001b[0m \u001b[0;34m\"pymupdf\"\u001b[0m\u001b[0;34m\u001b[0m\u001b[0;34m\u001b[0m\u001b[0m\n",
      "\u001b[0;32m~/anaconda3/envs/surya/lib/python3.10/site-packages/openparse/pdf.py\u001b[0m in \u001b[0;36m?\u001b[0;34m(self, file)\u001b[0m\n\u001b[1;32m     99\u001b[0m             \u001b[0mself\u001b[0m\u001b[0;34m.\u001b[0m\u001b[0mfile_metadata\u001b[0m \u001b[0;34m=\u001b[0m \u001b[0mfile_metadata\u001b[0m\u001b[0;34m(\u001b[0m\u001b[0mfile\u001b[0m\u001b[0;34m)\u001b[0m\u001b[0;34m\u001b[0m\u001b[0;34m\u001b[0m\u001b[0m\n\u001b[1;32m    100\u001b[0m \u001b[0;34m\u001b[0m\u001b[0m\n\u001b[1;32m    101\u001b[0m         \u001b[0mself\u001b[0m\u001b[0;34m.\u001b[0m\u001b[0mreader\u001b[0m \u001b[0;34m=\u001b[0m \u001b[0mPdfReader\u001b[0m\u001b[0;34m(\u001b[0m\u001b[0mfile\u001b[0m\u001b[0;34m)\u001b[0m \u001b[0;32mif\u001b[0m \u001b[0misinstance\u001b[0m\u001b[0;34m(\u001b[0m\u001b[0mfile\u001b[0m\u001b[0;34m,\u001b[0m \u001b[0;34m(\u001b[0m\u001b[0mstr\u001b[0m\u001b[0;34m,\u001b[0m \u001b[0mPath\u001b[0m\u001b[0;34m)\u001b[0m\u001b[0;34m)\u001b[0m \u001b[0;32melse\u001b[0m \u001b[0mfile\u001b[0m\u001b[0;34m\u001b[0m\u001b[0;34m\u001b[0m\u001b[0m\n\u001b[1;32m    102\u001b[0m         \u001b[0mself\u001b[0m\u001b[0;34m.\u001b[0m\u001b[0mwriter\u001b[0m \u001b[0;34m=\u001b[0m \u001b[0mPdfWriter\u001b[0m\u001b[0;34m(\u001b[0m\u001b[0;34m)\u001b[0m\u001b[0;34m\u001b[0m\u001b[0;34m\u001b[0m\u001b[0m\n\u001b[0;32m--> 103\u001b[0;31m         \u001b[0;32mfor\u001b[0m \u001b[0mpage\u001b[0m \u001b[0;32min\u001b[0m \u001b[0mself\u001b[0m\u001b[0;34m.\u001b[0m\u001b[0mreader\u001b[0m\u001b[0;34m.\u001b[0m\u001b[0mpages\u001b[0m\u001b[0;34m:\u001b[0m\u001b[0;34m\u001b[0m\u001b[0;34m\u001b[0m\u001b[0m\n\u001b[0m\u001b[1;32m    104\u001b[0m             \u001b[0mself\u001b[0m\u001b[0;34m.\u001b[0m\u001b[0mwriter\u001b[0m\u001b[0;34m.\u001b[0m\u001b[0madd_page\u001b[0m\u001b[0;34m(\u001b[0m\u001b[0mpage\u001b[0m\u001b[0;34m)\u001b[0m\u001b[0;34m\u001b[0m\u001b[0;34m\u001b[0m\u001b[0m\n\u001b[1;32m    105\u001b[0m \u001b[0;34m\u001b[0m\u001b[0m\n\u001b[1;32m    106\u001b[0m         \u001b[0mself\u001b[0m\u001b[0;34m.\u001b[0m\u001b[0mnum_pages\u001b[0m \u001b[0;34m=\u001b[0m \u001b[0mlen\u001b[0m\u001b[0;34m(\u001b[0m\u001b[0mself\u001b[0m\u001b[0;34m.\u001b[0m\u001b[0mreader\u001b[0m\u001b[0;34m.\u001b[0m\u001b[0mpages\u001b[0m\u001b[0;34m)\u001b[0m\u001b[0;34m\u001b[0m\u001b[0;34m\u001b[0m\u001b[0m\n",
      "\u001b[0;32m~/anaconda3/envs/surya/lib/python3.10/site-packages/pandas/core/generic.py\u001b[0m in \u001b[0;36m?\u001b[0;34m(self, name)\u001b[0m\n\u001b[1;32m   6295\u001b[0m             \u001b[0;32mand\u001b[0m \u001b[0mname\u001b[0m \u001b[0;32mnot\u001b[0m \u001b[0;32min\u001b[0m \u001b[0mself\u001b[0m\u001b[0;34m.\u001b[0m\u001b[0m_accessors\u001b[0m\u001b[0;34m\u001b[0m\u001b[0;34m\u001b[0m\u001b[0m\n\u001b[1;32m   6296\u001b[0m             \u001b[0;32mand\u001b[0m \u001b[0mself\u001b[0m\u001b[0;34m.\u001b[0m\u001b[0m_info_axis\u001b[0m\u001b[0;34m.\u001b[0m\u001b[0m_can_hold_identifiers_and_holds_name\u001b[0m\u001b[0;34m(\u001b[0m\u001b[0mname\u001b[0m\u001b[0;34m)\u001b[0m\u001b[0;34m\u001b[0m\u001b[0;34m\u001b[0m\u001b[0m\n\u001b[1;32m   6297\u001b[0m         ):\n\u001b[1;32m   6298\u001b[0m             \u001b[0;32mreturn\u001b[0m \u001b[0mself\u001b[0m\u001b[0;34m[\u001b[0m\u001b[0mname\u001b[0m\u001b[0;34m]\u001b[0m\u001b[0;34m\u001b[0m\u001b[0;34m\u001b[0m\u001b[0m\n\u001b[0;32m-> 6299\u001b[0;31m         \u001b[0;32mreturn\u001b[0m \u001b[0mobject\u001b[0m\u001b[0;34m.\u001b[0m\u001b[0m__getattribute__\u001b[0m\u001b[0;34m(\u001b[0m\u001b[0mself\u001b[0m\u001b[0;34m,\u001b[0m \u001b[0mname\u001b[0m\u001b[0;34m)\u001b[0m\u001b[0;34m\u001b[0m\u001b[0;34m\u001b[0m\u001b[0m\n\u001b[0m",
      "\u001b[0;31mAttributeError\u001b[0m: 'DataFrame' object has no attribute 'pages'"
     ]
    }
   ],
   "source": [
    "\n",
    "parser = openparse.DocumentParser()\n",
    "parsed_basic_doc=parser.parse(filtered_table_matrix)\n",
    "\n",
    "for node in parsed_basic_doc.nodes:\n",
    "    print(node)"
   ]
  },
  {
   "cell_type": "code",
   "execution_count": null,
   "metadata": {},
   "outputs": [],
   "source": [
    "import openparse\n",
    "import PyPDF2\n",
    "\n",
    "# Step 2: Parse the PDF using openparse\n",
    "def extract_table_pages_with_openparse(pdf_path, table_label='Table'):\n",
    "    \"\"\"\n",
    "    Parse the PDF and extract the page indices of nodes labeled as 'Table' using openparse.\n",
    "    \n",
    "    Parameters:\n",
    "    - pdf_path: Path to the original PDF file.\n",
    "    - table_label: Label to identify table nodes (default is 'Table').\n",
    "    \n",
    "    Returns:\n",
    "    - A list of page indices where tables are located.\n",
    "    \"\"\"\n",
    "    parser = openparse.DocumentParser()\n",
    "    parsed_basic_doc = parser.parse(pdf_path)\n",
    "    \n",
    "    # Step 3: Extract the page indices where tables are found\n",
    "    table_pages = set()  # Using a set to avoid duplicate pages\n",
    "    for node in parsed_basic_doc.nodes:\n",
    "        if node['label'] == table_label:  # Check if the node label is 'Table'\n",
    "            table_pages.add(node['page_idx'])  # Add page index to the set\n",
    "    \n",
    "    return list(table_pages)  # Convert to list\n",
    "\n",
    "# Step 4: Connect to the function to extract and save the table pages\n",
    "def extract_and_save_table_pages(pdf_path, table_pages, output_pdf_path):\n",
    "    \"\"\"\n",
    "    Extract pages containing tables based on table_pages list and save them as a single-page PDF.\n",
    "    \n",
    "    Parameters:\n",
    "    - pdf_path: Path to the original PDF file.\n",
    "    - table_pages: A list of page indices containing tables.\n",
    "    - output_pdf_path: Path to save the extracted table pages as separate PDFs.\n",
    "    \"\"\"\n",
    "    # Open the PDF file\n",
    "    with open(pdf_path, 'rb') as file:\n",
    "        pdf_reader = PyPDF2.PdfReader(file)\n",
    "        \n",
    "        # Create a PDF writer object to save individual table pages\n",
    "        pdf_writer = PyPDF2.PdfWriter()\n",
    "\n",
    "        # Loop through the table pages\n",
    "        for page_num in table_pages:\n",
    "            page = pdf_reader.pages[page_num - 1]  # Subtract 1 because page numbers are 0-indexed\n",
    "            pdf_writer.add_page(page)\n",
    "        \n",
    "        # Write the extracted pages to the new PDF\n",
    "        with open(output_pdf_path, 'wb') as output_pdf:\n",
    "            pdf_writer.write(output_pdf)\n",
    "\n",
    "# Example usage:\n",
    "basic_doc_path = 'input.pdf'  # Path to your original PDF\n",
    "output_pdf_path = 'output_table_pages.pdf'  # Path to save the PDF with only table pages\n",
    "\n",
    "# Extract the page indices containing tables using openparse\n",
    "table_pages = extract_table_pages_with_openparse(basic_doc_path)\n",
    "\n",
    "# Save the extracted table pages to a new PDF\n",
    "extract_and_save_table_pages(basic_doc_path, table_pages, output_pdf_path)\n"
   ]
  },
  {
   "cell_type": "code",
   "execution_count": 15,
   "metadata": {},
   "outputs": [
    {
     "ename": "AttributeError",
     "evalue": "'bytes' object has no attribute 'pages'",
     "output_type": "error",
     "traceback": [
      "\u001b[0;31m---------------------------------------------------------------------------\u001b[0m",
      "\u001b[0;31mAttributeError\u001b[0m                            Traceback (most recent call last)",
      "Cell \u001b[0;32mIn[15], line 7\u001b[0m\n\u001b[1;32m      5\u001b[0m pdf_bytes \u001b[38;5;241m=\u001b[39m \u001b[38;5;28mopen\u001b[39m(\u001b[38;5;124m'\u001b[39m\u001b[38;5;124mpic2.pdf\u001b[39m\u001b[38;5;124m'\u001b[39m, \u001b[38;5;124m'\u001b[39m\u001b[38;5;124mrb\u001b[39m\u001b[38;5;124m'\u001b[39m)\u001b[38;5;241m.\u001b[39mread()\n\u001b[1;32m      6\u001b[0m parser \u001b[38;5;241m=\u001b[39m openparse\u001b[38;5;241m.\u001b[39mDocumentParser()\n\u001b[0;32m----> 7\u001b[0m parsed_basic_doc \u001b[38;5;241m=\u001b[39m \u001b[43mparser\u001b[49m\u001b[38;5;241;43m.\u001b[39;49m\u001b[43mparse\u001b[49m\u001b[43m(\u001b[49m\u001b[43mpdf_bytes\u001b[49m\u001b[43m)\u001b[49m\n\u001b[1;32m      8\u001b[0m parsed_basic_doc\u001b[38;5;241m.\u001b[39mto_excel(\u001b[38;5;124m'\u001b[39m\u001b[38;5;124moutput_pic2.xlsx\u001b[39m\u001b[38;5;124m'\u001b[39m, index\u001b[38;5;241m=\u001b[39m\u001b[38;5;28;01mFalse\u001b[39;00m)\n\u001b[1;32m     10\u001b[0m \u001b[38;5;66;03m# Step 2: Extract table page data from the Excel file\u001b[39;00m\n",
      "File \u001b[0;32m~/anaconda3/envs/surya/lib/python3.10/site-packages/openparse/doc_parser.py:95\u001b[0m, in \u001b[0;36mDocumentParser.parse\u001b[0;34m(self, file, ocr)\u001b[0m\n\u001b[1;32m     83\u001b[0m \u001b[38;5;28;01mdef\u001b[39;00m \u001b[38;5;21mparse\u001b[39m(\n\u001b[1;32m     84\u001b[0m     \u001b[38;5;28mself\u001b[39m,\n\u001b[1;32m     85\u001b[0m     file: Union[\u001b[38;5;28mstr\u001b[39m, Path],\n\u001b[1;32m     86\u001b[0m     ocr: \u001b[38;5;28mbool\u001b[39m \u001b[38;5;241m=\u001b[39m \u001b[38;5;28;01mFalse\u001b[39;00m,\n\u001b[1;32m     87\u001b[0m ) \u001b[38;5;241m-\u001b[39m\u001b[38;5;241m>\u001b[39m ParsedDocument:\n\u001b[1;32m     88\u001b[0m \u001b[38;5;250m    \u001b[39m\u001b[38;5;124;03m\"\"\"\u001b[39;00m\n\u001b[1;32m     89\u001b[0m \u001b[38;5;124;03m    Parse a given document.\u001b[39;00m\n\u001b[1;32m     90\u001b[0m \n\u001b[0;32m   (...)\u001b[0m\n\u001b[1;32m     93\u001b[0m \u001b[38;5;124;03m        ocr (bool): Whether to use OCR for text extraction. Not recommended unless necessary - inherently slower and less accurate. Note uses PyMuPDF for OCR.\u001b[39;00m\n\u001b[1;32m     94\u001b[0m \u001b[38;5;124;03m    \"\"\"\u001b[39;00m\n\u001b[0;32m---> 95\u001b[0m     doc \u001b[38;5;241m=\u001b[39m \u001b[43mPdf\u001b[49m\u001b[43m(\u001b[49m\u001b[43mfile\u001b[49m\u001b[43m)\u001b[49m\n\u001b[1;32m     97\u001b[0m     text_engine: Literal[\u001b[38;5;124m\"\u001b[39m\u001b[38;5;124mpdfminer\u001b[39m\u001b[38;5;124m\"\u001b[39m, \u001b[38;5;124m\"\u001b[39m\u001b[38;5;124mpymupdf\u001b[39m\u001b[38;5;124m\"\u001b[39m] \u001b[38;5;241m=\u001b[39m (\n\u001b[1;32m     98\u001b[0m         \u001b[38;5;124m\"\u001b[39m\u001b[38;5;124mpdfminer\u001b[39m\u001b[38;5;124m\"\u001b[39m \u001b[38;5;28;01mif\u001b[39;00m \u001b[38;5;129;01mnot\u001b[39;00m ocr \u001b[38;5;28;01melse\u001b[39;00m \u001b[38;5;124m\"\u001b[39m\u001b[38;5;124mpymupdf\u001b[39m\u001b[38;5;124m\"\u001b[39m\n\u001b[1;32m     99\u001b[0m     )\n\u001b[1;32m    100\u001b[0m     text_elems \u001b[38;5;241m=\u001b[39m text\u001b[38;5;241m.\u001b[39mingest(doc, parsing_method\u001b[38;5;241m=\u001b[39mtext_engine)\n",
      "File \u001b[0;32m~/anaconda3/envs/surya/lib/python3.10/site-packages/openparse/pdf.py:103\u001b[0m, in \u001b[0;36mPdf.__init__\u001b[0;34m(self, file)\u001b[0m\n\u001b[1;32m    101\u001b[0m \u001b[38;5;28mself\u001b[39m\u001b[38;5;241m.\u001b[39mreader \u001b[38;5;241m=\u001b[39m PdfReader(file) \u001b[38;5;28;01mif\u001b[39;00m \u001b[38;5;28misinstance\u001b[39m(file, (\u001b[38;5;28mstr\u001b[39m, Path)) \u001b[38;5;28;01melse\u001b[39;00m file\n\u001b[1;32m    102\u001b[0m \u001b[38;5;28mself\u001b[39m\u001b[38;5;241m.\u001b[39mwriter \u001b[38;5;241m=\u001b[39m PdfWriter()\n\u001b[0;32m--> 103\u001b[0m \u001b[38;5;28;01mfor\u001b[39;00m page \u001b[38;5;129;01min\u001b[39;00m \u001b[38;5;28;43mself\u001b[39;49m\u001b[38;5;241;43m.\u001b[39;49m\u001b[43mreader\u001b[49m\u001b[38;5;241;43m.\u001b[39;49m\u001b[43mpages\u001b[49m:\n\u001b[1;32m    104\u001b[0m     \u001b[38;5;28mself\u001b[39m\u001b[38;5;241m.\u001b[39mwriter\u001b[38;5;241m.\u001b[39madd_page(page)\n\u001b[1;32m    106\u001b[0m \u001b[38;5;28mself\u001b[39m\u001b[38;5;241m.\u001b[39mnum_pages \u001b[38;5;241m=\u001b[39m \u001b[38;5;28mlen\u001b[39m(\u001b[38;5;28mself\u001b[39m\u001b[38;5;241m.\u001b[39mreader\u001b[38;5;241m.\u001b[39mpages)\n",
      "\u001b[0;31mAttributeError\u001b[0m: 'bytes' object has no attribute 'pages'"
     ]
    }
   ],
   "source": [
    "import openparse\n",
    "import pandas as pd\n",
    "\n",
    "# Step 1: Parse the PDF and save layout to Excel (This part assumes you already have this done)\n",
    "pdf_bytes = open('pic2.pdf', 'rb').read()\n",
    "parser = openparse.DocumentParser()\n",
    "parsed_basic_doc = parser.parse(pdf_bytes)\n",
    "parsed_basic_doc.to_excel('output_pic2.xlsx', index=False)\n",
    "\n",
    "# Step 2: Extract table page data from the Excel file\n",
    "def extract_table_data_from_excel(file_path):\n",
    "    \"\"\"\n",
    "    Extract only the rows labeled as 'Table' from an Excel file and return the data in matrix format\n",
    "    containing page_idx, bbox, label.\n",
    "    \"\"\"\n",
    "    # Load the Excel file\n",
    "    df = pd.read_excel(file_path)\n",
    "    \n",
    "    # Filter for rows labeled as 'Table'\n",
    "    table_df = df[df['label'] == 'Table']\n",
    "    \n",
    "    # Select necessary columns\n",
    "    table_matrix = table_df[['page_idx', 'bbox', 'label']]\n",
    "    \n",
    "    return table_matrix\n",
    "\n",
    "# Step 3: Get the maximum bounding box for pages containing tables\n",
    "def get_maximum_bounding_box(parsed_basic_doc, table_pages):\n",
    "    \"\"\"\n",
    "    Get the maximum bounding box across all the bounding boxes for each table page.\n",
    "\n",
    "    Parameters:\n",
    "    - parsed_basic_doc: The parsed document object.\n",
    "    - table_pages: A list of page indices where tables are located.\n",
    "    \n",
    "    Returns:\n",
    "    - A dictionary with page indices as keys and max bounding boxes as values.\n",
    "    \"\"\"\n",
    "    # Initialize a dictionary to store max bounding boxes for each page\n",
    "    page_bboxes = {}\n",
    "\n",
    "    # Iterate through all the nodes in the parsed document\n",
    "    for node in parsed_basic_doc.nodes:\n",
    "        page_idx = node['page_idx']\n",
    "        \n",
    "        if page_idx in table_pages:  # Process only pages with tables\n",
    "            # Initialize variables to store the minimum x0, y0 and maximum x1, y1\n",
    "            x0_min, y0_min = float('inf'), float('inf')\n",
    "            x1_max, y1_max = float('-inf'), float('-inf')\n",
    "\n",
    "            # Extract bounding box list from node\n",
    "            if hasattr(node, 'bbox'):\n",
    "                bbox_list = node.bbox  # Assuming bbox is a list of Bbox objects\n",
    "\n",
    "                # Iterate over bbox_list (in case there are multiple Bbox objects)\n",
    "                for bbox in bbox_list:\n",
    "                    x0, y0, x1, y1 = bbox.x0, bbox.y0, bbox.x1, bbox.y1\n",
    "                    \n",
    "                    # Update the min and max values for x0, y0, x1, y1\n",
    "                    x0_min = min(x0_min, x0)\n",
    "                    y0_min = min(y0_min, y0)\n",
    "                    x1_max = max(x1_max, x1)\n",
    "                    y1_max = max(y1_max, y1)\n",
    "                \n",
    "                # Store the bounding box for the current page\n",
    "                page_bboxes[page_idx] = (x0_min, y0_min, x1_max, y1_max)\n",
    "\n",
    "    return page_bboxes\n",
    "\n",
    "# Step 4: Save the extracted table pages into a new PDF\n",
    "def extract_and_save_table_pages_with_bbox(pdf_path, table_matrix, parsed_basic_doc, output_pdf_path):\n",
    "    \"\"\"\n",
    "    Extract pages containing tables based on the table_matrix and save them as a single-page PDF.\n",
    "    \n",
    "    Parameters:\n",
    "    - pdf_path: Path to the original PDF file.\n",
    "    - table_matrix: A DataFrame containing page_idx and other information about the table locations.\n",
    "    - parsed_basic_doc: The parsed document object from openparse.\n",
    "    - output_pdf_path: Path to save the extracted table pages as separate PDFs.\n",
    "    \"\"\"\n",
    "    # Open the PDF file\n",
    "    with open(pdf_path, 'rb') as file:\n",
    "        pdf_reader = PyPDF2.PdfReader(file)\n",
    "        \n",
    "        # Create a PDF writer object to save individual table pages\n",
    "        pdf_writer = PyPDF2.PdfWriter()\n",
    "\n",
    "        # Get the unique page numbers where tables are located\n",
    "        table_pages = table_matrix['page_idx'].unique()\n",
    "\n",
    "        # Get the maximum bounding box for each table-containing page\n",
    "        max_bboxes = get_maximum_bounding_box(parsed_basic_doc, table_pages)\n",
    "\n",
    "        # Loop through the table pages\n",
    "        for page_num in table_pages:\n",
    "            page = pdf_reader.pages[page_num]  # Use the page index directly\n",
    "            pdf_writer.add_page(page)\n",
    "            \n",
    "            # Optionally, print or log the bounding box information\n",
    "            if page_num in max_bboxes:\n",
    "                print(f\"Page {page_num} Max Bounding Box:\", max_bboxes[page_num])\n",
    "        \n",
    "        # Write the extracted pages to the new PDF\n",
    "        with open(output_pdf_path, 'wb') as output_pdf:\n",
    "            pdf_writer.write(output_pdf)\n",
    "\n",
    "# Example usage:\n",
    "excel_file_path = 'output_pic2.xlsx'  # Path to the Excel file generated earlier\n",
    "pdf_path = 'pic2.pdf'  # Path to your original PDF\n",
    "output_pdf_path = 'output_table_pages_with_bbox.pdf'  # Path to save the PDF with only table pages\n",
    "\n",
    "# Step 5: Extract table page information from the Excel file\n",
    "filtered_table_matrix = extract_table_data_from_excel(excel_file_path)\n",
    "\n",
    "# Step 6: Save the extracted table pages into a new PDF and get bounding box info\n",
    "extract_and_save_table_pages_with_bbox(pdf_path, filtered_table_matrix, parsed_basic_doc, output_pdf_path)\n",
    "\n",
    "print(f\"Table pages have been extracted and saved to {output_pdf_path}\")\n"
   ]
  },
  {
   "cell_type": "code",
   "execution_count": null,
   "metadata": {},
   "outputs": [],
   "source": []
  },
  {
   "cell_type": "code",
   "execution_count": null,
   "metadata": {},
   "outputs": [
    {
     "name": "stdout",
     "output_type": "stream",
     "text": [
      "Cropped PDF saved at: pic1_output.pdf\n"
     ]
    }
   ],
   "source": []
  }
 ],
 "metadata": {
  "kernelspec": {
   "display_name": "surya",
   "language": "python",
   "name": "python3"
  },
  "language_info": {
   "codemirror_mode": {
    "name": "ipython",
    "version": 3
   },
   "file_extension": ".py",
   "mimetype": "text/x-python",
   "name": "python",
   "nbconvert_exporter": "python",
   "pygments_lexer": "ipython3",
   "version": "3.10.14"
  }
 },
 "nbformat": 4,
 "nbformat_minor": 2
}
